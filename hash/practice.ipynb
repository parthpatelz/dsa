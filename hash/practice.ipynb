{
 "cells": [
  {
   "cell_type": "code",
   "execution_count": null,
   "metadata": {},
   "outputs": [],
   "source": [
    "# Hashsets\n",
    "\n",
    "s = set()\n",
    "print(s)"
   ]
  },
  {
   "cell_type": "code",
   "execution_count": null,
   "metadata": {},
   "outputs": [],
   "source": [
    "# Add item into Set - O(1)\n",
    "s.add(1)\n",
    "s.add(2)\n",
    "s.add(3)\n",
    "\n",
    "print(s)\n"
   ]
  },
  {
   "cell_type": "code",
   "execution_count": null,
   "metadata": {},
   "outputs": [],
   "source": [
    "\n",
    "# Lookup if item in set - O(1)\n",
    "if 1 not in s:\n",
    "  print(True)\n"
   ]
  },
  {
   "cell_type": "code",
   "execution_count": null,
   "metadata": {},
   "outputs": [],
   "source": [
    "# Remove item from set - O(1)\n",
    "s.remove(3)\n",
    "\n",
    "print(s)\n",
    "\n",
    "\n"
   ]
  },
  {
   "cell_type": "code",
   "execution_count": 1,
   "metadata": {},
   "outputs": [
    {
     "data": {
      "text/plain": [
       "{'a', 'b', 'c', 'e'}"
      ]
     },
     "execution_count": 1,
     "metadata": {},
     "output_type": "execute_result"
    }
   ],
   "source": [
    "# Set construction - O(S) - S is the length of the string\n",
    "string = 'aaaaaaabbbbbbbbbbbccccccccceeeeeeeee'\n",
    "sett = set(string)\n",
    "\n",
    "sett"
   ]
  },
  {
   "cell_type": "code",
   "execution_count": null,
   "metadata": {},
   "outputs": [],
   "source": [
    "# Loop over items in set - O(n)\n",
    "for x in s:\n",
    "  print(x)"
   ]
  },
  {
   "cell_type": "code",
   "execution_count": null,
   "metadata": {},
   "outputs": [],
   "source": []
  },
  {
   "cell_type": "code",
   "execution_count": 3,
   "metadata": {},
   "outputs": [
    {
     "name": "stdout",
     "output_type": "stream",
     "text": [
      "{'greg': 1, 'steve': 2, 'rob': 3}\n",
      "{'greg': 1, 'steve': 2, 'rob': 3, 'arsh': 4, 'parth': 20}\n"
     ]
    }
   ],
   "source": [
    "# Hashmaps - Dictionaries\n",
    "\n",
    "d = {'greg': 1, 'steve': 2, 'rob': 3}\n",
    "\n",
    "print(d)\n",
    "\n",
    "# Add key:val in dictionary: O(1)\n",
    "d['arsh'] = 4\n",
    "d['parth'] = 20\n",
    "print(d)"
   ]
  },
  {
   "cell_type": "code",
   "execution_count": null,
   "metadata": {},
   "outputs": [],
   "source": [
    "# Check for presence of key in dictionary: O(1)\n",
    "if 'greg' in d:\n",
    "  print(True)"
   ]
  },
  {
   "cell_type": "code",
   "execution_count": null,
   "metadata": {},
   "outputs": [],
   "source": [
    "# Check the value corresponding to a key in the dictionary: O(1)\n",
    "print(d['greg'])"
   ]
  },
  {
   "cell_type": "code",
   "execution_count": null,
   "metadata": {},
   "outputs": [],
   "source": [
    "# Loop over the key:val pairs of the dictionary: O(n)\n",
    "for key, val in d.items():\n",
    "  print(f'key {key}: val {val}')"
   ]
  },
  {
   "cell_type": "code",
   "execution_count": null,
   "metadata": {},
   "outputs": [],
   "source": [
    "# Defaultdict\n",
    "\n",
    "from collections import defaultdict\n",
    "\n",
    "default = defaultdict(list)\n",
    "\n",
    "default[2]"
   ]
  },
  {
   "cell_type": "code",
   "execution_count": null,
   "metadata": {},
   "outputs": [],
   "source": [
    "# Counter\n",
    "from collections import Counter\n",
    "\n",
    "counter = Counter(string)\n",
    "\n",
    "print(counter)"
   ]
  },
  {
   "cell_type": "code",
   "execution_count": 8,
   "metadata": {},
   "outputs": [
    {
     "name": "stdout",
     "output_type": "stream",
     "text": [
      "Counter({2: 1, 7: 1, 11: 1, 15: 1})\n"
     ]
    }
   ],
   "source": [
    "from collections import defaultdict,Counter\n",
    "nums = [2,7,11,15]\n",
    "target = 9\n",
    "H=Counter(nums)\n",
    "\n",
    "print(H)"
   ]
  }
 ],
 "metadata": {
  "kernelspec": {
   "display_name": "Python 3",
   "language": "python",
   "name": "python3"
  },
  "language_info": {
   "codemirror_mode": {
    "name": "ipython",
    "version": 3
   },
   "file_extension": ".py",
   "mimetype": "text/x-python",
   "name": "python",
   "nbconvert_exporter": "python",
   "pygments_lexer": "ipython3",
   "version": "3.10.11"
  }
 },
 "nbformat": 4,
 "nbformat_minor": 2
}
